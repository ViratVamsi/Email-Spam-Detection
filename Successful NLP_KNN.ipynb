{
 "cells": [
  {
   "cell_type": "markdown",
   "metadata": {},
   "source": [
    "### KNN Classifier for Email Spam Detection Using NLP"
   ]
  },
  {
   "cell_type": "code",
   "execution_count": 1,
   "metadata": {},
   "outputs": [],
   "source": [
    "import numpy as np\n",
    "import string\n",
    "import pandas as pd\n",
    "from pandas import DataFrame\n",
    "import nltk\n",
    "import csv\n",
    "import random"
   ]
  },
  {
   "cell_type": "code",
   "execution_count": 4,
   "metadata": {},
   "outputs": [],
   "source": [
    "dataset='textualMailsDataset.csv'"
   ]
  },
  {
   "cell_type": "code",
   "execution_count": 5,
   "metadata": {},
   "outputs": [
    {
     "data": {
      "text/html": [
       "<div>\n",
       "<style scoped>\n",
       "    .dataframe tbody tr th:only-of-type {\n",
       "        vertical-align: middle;\n",
       "    }\n",
       "\n",
       "    .dataframe tbody tr th {\n",
       "        vertical-align: top;\n",
       "    }\n",
       "\n",
       "    .dataframe thead th {\n",
       "        text-align: right;\n",
       "    }\n",
       "</style>\n",
       "<table border=\"1\" class=\"dataframe\">\n",
       "  <thead>\n",
       "    <tr style=\"text-align: right;\">\n",
       "      <th></th>\n",
       "      <th>text</th>\n",
       "      <th>spam</th>\n",
       "    </tr>\n",
       "  </thead>\n",
       "  <tbody>\n",
       "    <tr>\n",
       "      <th>0</th>\n",
       "      <td>Subject: naturally irresistible your corporate...</td>\n",
       "      <td>1</td>\n",
       "    </tr>\n",
       "    <tr>\n",
       "      <th>1</th>\n",
       "      <td>Subject: the stock trading gunslinger  fanny i...</td>\n",
       "      <td>1</td>\n",
       "    </tr>\n",
       "    <tr>\n",
       "      <th>2</th>\n",
       "      <td>Subject: unbelievable new homes made easy  im ...</td>\n",
       "      <td>1</td>\n",
       "    </tr>\n",
       "    <tr>\n",
       "      <th>3</th>\n",
       "      <td>Subject: 4 color printing special  request add...</td>\n",
       "      <td>1</td>\n",
       "    </tr>\n",
       "    <tr>\n",
       "      <th>4</th>\n",
       "      <td>Subject: do not have money , get software cds ...</td>\n",
       "      <td>1</td>\n",
       "    </tr>\n",
       "  </tbody>\n",
       "</table>\n",
       "</div>"
      ],
      "text/plain": [
       "                                                text  spam\n",
       "0  Subject: naturally irresistible your corporate...     1\n",
       "1  Subject: the stock trading gunslinger  fanny i...     1\n",
       "2  Subject: unbelievable new homes made easy  im ...     1\n",
       "3  Subject: 4 color printing special  request add...     1\n",
       "4  Subject: do not have money , get software cds ...     1"
      ]
     },
     "execution_count": 5,
     "metadata": {},
     "output_type": "execute_result"
    }
   ],
   "source": [
    "df=pd.read_csv(dataset)\n",
    "df.head()"
   ]
  },
  {
   "cell_type": "code",
   "execution_count": 6,
   "metadata": {},
   "outputs": [
    {
     "name": "stdout",
     "output_type": "stream",
     "text": [
      "['Subject naturally irresistible corporate identity lt really hard recollect company market full suqgestions information isoverwhelminq good catchy logo stylish statlonery outstanding website make task much easier promise havinq ordered iogo company automaticaily become world ieader isguite ciear without good products effective business organization practicable aim hotat nowadays market promise marketing efforts become much effective list clear benefits creativeness hand made original logos specially done reflect distinctive company image convenience logo stationery provided formats easy use content management system letsyou change website content even structure promptness see logo drafts within three business days affordability marketing break make gaps budget satisfaction guaranteed provide unlimited amount changes extra fees surethat love result collaboration look portfolio interested', 1]\n",
      "['Subject stock trading gunslinger fanny merrill muzo colza attainder penultimate like esmark perspicuous ramble segovia group try slung kansas tanzania yes chameleon continuant clothesman libretto chesapeake tight waterway herald hawthorn like chisel morristown superior deoxyribonucleic clockwork try hall incredible mcdougall yes hepburn einsteinian earmark sapling boar duane plain palfrey inflexible like huzzah pepperoni bedtime nameable attire try edt chronography optima yes pirogue diffusion albeit', 1]\n",
      "['Subject unbelievable new homes made easy im wanting show homeowner pre approved $ home loan fixed rate offer extended unconditionally credit way factor take advantage limited time opportunity ask visit website complete minute post approval form look foward hearing dorcas pittman', 1]\n",
      "['Subject color printing special request additional information click click printable version order form pdf format phone fax e mail ramsey goldengraphix com request additional information click click printable version order form pdf format golden graphix printing azusa canyon rd irwindale ca e mail message advertisement solicitation', 1]\n",
      "['Subject money get software cds software compatibility great grow old along best yet tradgedies finish death comedies ended marriage', 1]\n",
      "['Subject great nnews hello welcome medzonline sh groundsel op pleased introduce one ieading online phar felicitation maceuticai shops helter v shakedown r cosmopolitan l l blister l l bestow ag ac tosher l coadjutor va confidant um andmanyother sav inexpiable e total confide leisure ntiaiity worldwide polite hlpplng ov allusion er miilion customers countries devitalize nice day', 1]\n",
      "['Subject hot play motion homeland security investments terror attacks united states september ol changed security landscape foreseeable future physical ogica security become paramount industry segments especia banking nationa resource government sectors according giga owned subsidiary forrester research woridwide demand information security products services set eclipse $ b homeiand security investments newsietter dedicated providing readers information pertaining investment opportunities lucrative sector know events related homeland security happen lightning speed investors position way take advantage current trends ready capitalize events yet happen homeland security investments heip readers mind great excitement present vinoble inc stock expected big things near ong terms symbol vnbl ob current price short term target price month target price believe vnbl ob give big returns investment time much vnbl focus rfid radio frequency identification technoiogy technology uses tiny sensors transmit information person object wireiessly vnbl aiready industry pioneer rfid personal location technoiogy vnbl developing form rfid technology allows companies governments wirelessly track assets resources technoiogy huge potentia protection transportation materiais designated high risk fa wrong hands vnbl works integration two afore mentioned systems order create high security space ocaies deemed necessary locations may take advantage systems airports sea ports mines nuciear faciiities stocks news drives short term price fresh news made vnbl hot buy news vnbl malibu calif business wire june oo vinoble inc otcbb vnbl news holding company seeking identify ong term growth opportunities areas homeland security security information systems security services announced today pians offer products services wiil assist automation identification control equipment assets toois related processes used oi gas petrochemical industries although smail wireiessly networked rfid sensors monitor machines equipment detect possible problems become serious aiso deiiver safety features within oi welis oi maybe trapped different ayers rock aiong gas water detection specific iquids assist equipment operating within specific precise opportune moment ensure certain adverse conditions occur well filiing water rf based technoiogy applications rfid also provide safe transit materiais authorized handler limit entry personne specific ocations ensuring personnel safety essential emergency faciiity rfid tags wouid enabie customer track evaiuate empioyee safety danger application technology requires product hardware operate harsh potentia hazardous conditions gives valuable safety resources assets vita customer rfid aiso assist customer supply chain tracking oi gas chemica products extraction refining saie retai evel vinoble viewpoint previousiy stated applications vaiuable mining industry protective measure country natura resources commodities threat preservation fueis resources important safety u industry economy company believes offering service technoiogy appiication oil gas petrochemical industry wil position vinoble rapidly expanding industry whiie taking advantage access increasing capital gioba spending company wi require growth company goal aiso provide much needed service cost manageable even sma est businesses afford without safety personnel assets current state constant threat outstanding news growth potential company exceptional already hot industry vnbl ob stands truiy innovative pioneer see big things happening stock information within emai contains forward looking statements within meaning section securities act section b securities exchange act statements express involve discussions respect predictions expectations beliefs pians projections objectives goals assumptions future events performance statements historica fact may forward ooking statements forward ooking statements based expectations estimates projections time statements made invoive number risks uncertainties couid cause actua results events differ materia presently anticipated forward looking statements action may identified use words projects foresee expects wi anticipates estimates beiieves understands statements indicating certain actions may couid might occur many micro cap stocks today company additional risk factors worth noting factors inciude limited operating history company advancing cash reiated parties shareholder unsecured basis one vendor related party majority stockhoider supplies ninety seven percent company raw materiais reiiance two customers fifty percent business numerous related party transactions need raise capital factors others fuily speiled company sec fiiings urge read filings invest rocket stock report represent information contained message states ail materia facts omit material fact necessary make statements therein misleading ail information provided within emai pertaining investing stocks securities must understood information provided investment advice rocket stock report advises readers subscribers seek advice registered professiona securities representative deciding trade stocks featured within email none material within report shal construed kind investment advice solicitation many companies verge bankruptcy lose ail money investing stock publisher rocket stock report registered investment advisor subscribers view information herein ega tax accounting investment advice reference past performance companies speciaily seiected referenced based favorabie performance companies wouid need perfect timing achieve resuits exampies given assurance happening remember aiways past performance never indicative future results thorough due diiigence effort including review company filings shouid completed prior investing compiiance securities act section b rocket stock report discioses receipt tweive thousand doilars third party gem inc officer director affiliate sharehoider circuiation report gem inc position stock wil se time without notice aware inherent confiict interest resuiting compensation due fact paid advertisement conflicted al factua information report gathered pubiic sources inciuding limited company websites sec fiiings company press releases rocket stock report beiieves information reliabie make guarantee accuracy compieteness use materia within email constitutes acceptance terms', 1]\n",
      "['Subject save money buy getting thing tried cialls yet cannot even imagine like real man bed thing great errrectlon provided exactiy want cialis lot advantages viagra effect iasts hours ready start within minutes mix aicohol ship country get right', 1]\n",
      "['Subject undeliverable home based business grownups message subject home based business grownups sent sun jan reach following recipient tfi kpn com mon feb recipient name recognized mts id original message c us p ptt telecom l mtpi fjt q msexch ims kpn telecom mtpi co unknown recipient', 1]\n",
      "['Subject save money buy getting thing tried cialls yet cannot even imagine like real man bed thing great errrectlon provided exactiy want cialis lot advantages viagra effect lasts hours ready start within minutes mix aicohoi ship country get right', 1]\n"
     ]
    }
   ],
   "source": [
    "#Preprocessing the data by removing stop words and punctuations\n",
    "from nltk.corpus import stopwords\n",
    "stopwords_set=set(stopwords.words('english'))\n",
    "stopwords_set.remove('won')\n",
    "\n",
    "def preProcess(dataset):\n",
    "    with open(dataset,'r') as spam:\n",
    "        data=list(csv.reader(spam))\n",
    "        data=data[1:] #each mail is list of 2 strings.\n",
    "        \n",
    "        #making the data as list of a list with non punct words and list with label [['..','..',...],1/0]\n",
    "        punct=set(string.punctuation)\n",
    "        punct.remove('$')\n",
    "        for email in range(len(data)):\n",
    "            templist=[char for char in data[email][0] if char not in punct]\n",
    "            templabel=int(data[email][1])\n",
    "            data[email][0]=''.join(templist)\n",
    "            data[email][1]=templabel\n",
    "        \n",
    "        #removing stop words and numbers from mails\n",
    "        for email in range(len(data)):\n",
    "            tempmail=[]\n",
    "            for word in data[email][0].split():\n",
    "                if(word not in stopwords_set and not word.isnumeric()):\n",
    "                    tempmail.append(word)\n",
    "            data[email][0]=' '.join(tempmail)\n",
    "                    \n",
    "#         for i in range(100):\n",
    "#             print(data[i])\n",
    "        return data\n",
    "\n",
    "data = preProcess(dataset)\n",
    "for i in range(10):\n",
    "    print(data[i])"
   ]
  },
  {
   "cell_type": "code",
   "execution_count": 7,
   "metadata": {},
   "outputs": [],
   "source": [
    "\n",
    "from nltk.stem import PorterStemmer \n",
    "from spellchecker import SpellChecker\n",
    "\n",
    "spell = SpellChecker()\n",
    "ps = PorterStemmer() \n",
    "\n",
    "def performStemming(data):\n",
    "    for i in range(len(data)):\n",
    "        email=[]\n",
    "        for j in data[i][0].split():\n",
    "            word=ps.stem(j)\n",
    "#             if(word!=j):\n",
    "#                 word=spell.correction(word)\n",
    "            email.append(word)\n",
    "        data[i][0]=' '.join(email)\n",
    "    return data\n",
    "    \n",
    "# data=preProcess(dataset)\n",
    "# performStemming(data)\n",
    "# data"
   ]
  },
  {
   "cell_type": "code",
   "execution_count": 8,
   "metadata": {},
   "outputs": [
    {
     "data": {
      "text/plain": [
       "scipy.sparse.csr.csr_matrix"
      ]
     },
     "execution_count": 8,
     "metadata": {},
     "output_type": "execute_result"
    }
   ],
   "source": [
    "from sklearn.feature_extraction.text import CountVectorizer\n",
    "from sklearn.model_selection import train_test_split\n",
    "\n",
    "# def train_test_split(data,splitRatio):\n",
    "#     trainSet=[]\n",
    "#     testSet=[]\n",
    "#     for i in data:\n",
    "#         if(random.random()<splitRatio):\n",
    "#             trainSet.append(i)\n",
    "#         else:\n",
    "#             testSet.append(i)\n",
    "#     random.shuffle(trainSet)\n",
    "#     random.shuffle(testSet)\n",
    "#     return [trainSet,testSet]\n",
    "\n",
    "def splitinto_labels_attributes(trainset,testset):\n",
    "    #return [trainset[:-1],trainset[-1],testset[:-1],testset[-1]]\n",
    "    x_train=[]\n",
    "    x_test=[]\n",
    "    y_train=[]\n",
    "    y_test=[]\n",
    "    for i in trainset:\n",
    "        x_train.append(i[:-1])\n",
    "        y_train.append(i[-1])\n",
    "    for i in testset:\n",
    "        x_test.append(i[:-1])\n",
    "        y_test.append(i[-1])\n",
    "    return [x_train,y_train,x_test,y_test]\n",
    "\n",
    "# def make_count_vectorizer(data,distinct_words):\n",
    "#     bag=[]\n",
    "#     for email in range(len(data)):\n",
    "#         temp=[0 for i in range(len(distinct_words))]\n",
    "#         i=0\n",
    "#         for word in distinct_words:\n",
    "#             if(word in data[email][0]):\n",
    "#                 temp[i]+=1\n",
    "#             i+=1\n",
    "#         bag.append(temp)\n",
    "#     return bag\n",
    "\n",
    "# def distinctWords(data):\n",
    "#     distinct_words=set()\n",
    "#     for i in range(len(data)):\n",
    "#         for j in range(len(data[i][0])):\n",
    "#             if (data[i][0][j]) not in distinct_words:\n",
    "#                 distinct_words.add(data[i][0][j])\n",
    "#     return distinct_words\n",
    "\n",
    "trainSet=[]\n",
    "testSet=[]\n",
    "data=preProcess(dataset)\n",
    "\n",
    "##############################\n",
    "#######Adding stemming########\n",
    "##############################\n",
    "\n",
    "#data = performStemming(data)\n",
    "\n",
    "# distinct_words=distinctWords(data)\n",
    "\n",
    "# bagOfWords=make_count_vectorizer(data,distinct_words)\n",
    "\n",
    "bow=CountVectorizer(data).fit_transform(df['text'])\n",
    "\n",
    "#x_train,y_train,x_test,y_test=splitinto_labels_attributes(trainSet,testSet)\n",
    "x_train,x_test,y_train,y_test=train_test_split(bow,df['spam'],test_size=0.20,random_state=42)\n",
    "type(bow)\n",
    "#bow.shape  (5728, 37303)\n",
    "#print(x_train)"
   ]
  },
  {
   "cell_type": "code",
   "execution_count": 9,
   "metadata": {},
   "outputs": [
    {
     "name": "stdout",
     "output_type": "stream",
     "text": [
      "              precision    recall  f1-score   support\n",
      "\n",
      "           0       0.90      0.98      0.94       856\n",
      "           1       0.93      0.69      0.79       290\n",
      "\n",
      "    accuracy                           0.91      1146\n",
      "   macro avg       0.91      0.84      0.87      1146\n",
      "weighted avg       0.91      0.91      0.90      1146\n",
      "\n",
      "confusion matrix :\n",
      " [[840  16]\n",
      " [ 90 200]]\n",
      "Accuracy :\n",
      " 0.9075043630017452\n"
     ]
    }
   ],
   "source": [
    "from sklearn.neighbors import KNeighborsClassifier\n",
    "from sklearn.metrics import classification_report,confusion_matrix,accuracy_score\n",
    "\n",
    "knn_classifier=KNeighborsClassifier(n_neighbors=5).fit(x_train,y_train)\n",
    "pred=knn_classifier.predict(x_test)\n",
    "print(classification_report(y_test,pred))\n",
    "\n",
    "print('confusion matrix :\\n',confusion_matrix(y_test,pred))\n",
    "print('Accuracy :\\n',accuracy_score(y_test,pred))"
   ]
  },
  {
   "cell_type": "code",
   "execution_count": 10,
   "metadata": {},
   "outputs": [
    {
     "name": "stdout",
     "output_type": "stream",
     "text": [
      "[0.9223385689354275, 0.9075043630017452, 0.9031413612565445, 0.900523560209424, 0.8883071553228621, 0.8848167539267016, 0.8787085514834206, 0.8717277486910995, 0.8656195462478184, 0.8630017452006981, 0.8621291448516579, 0.8612565445026178, 0.8621291448516579, 0.8630017452006981, 0.8603839441535777, 0.8595113438045375, 0.8542757417102966, 0.8534031413612565, 0.8525305410122164, 0.8507853403141361, 0.8507853403141361, 0.8472949389179756, 0.8464223385689355, 0.8368237347294939, 0.8342059336823735, 0.8324607329842932, 0.8307155322862129, 0.8280977312390925, 0.8289703315881326, 0.8298429319371727, 0.8298429319371727, 0.8289703315881326, 0.8298429319371727, 0.8263525305410122, 0.8263525305410122, 0.8263525305410122, 0.8254799301919721, 0.8263525305410122, 0.8237347294938918]\n"
     ]
    }
   ],
   "source": [
    "n_values_var=[3,5,7,9,11,13,17,19,23,29,31,37,41,43,47,53,59,61,67,71,73,79,83,89,97,101,103,107,109,113,127,131,123,137,139,149,151,157,163]\n",
    "knn_accuracy_var=[]\n",
    "for i in n_values_var:\n",
    "    knn_classifier=KNeighborsClassifier(n_neighbors=i).fit(x_train,y_train)\n",
    "    pred=knn_classifier.predict(x_test)\n",
    "    knn_accuracy_var.append(accuracy_score(y_test,pred))\n",
    "print(knn_accuracy_var)"
   ]
  },
  {
   "cell_type": "code",
   "execution_count": 11,
   "metadata": {},
   "outputs": [],
   "source": [
    "import matplotlib as mpl\n",
    "import matplotlib.pyplot as plt\n",
    "import seaborn as sns"
   ]
  },
  {
   "cell_type": "code",
   "execution_count": 12,
   "metadata": {},
   "outputs": [],
   "source": [
    "%matplotlib inline"
   ]
  },
  {
   "cell_type": "code",
   "execution_count": 13,
   "metadata": {},
   "outputs": [
    {
     "data": {
      "image/png": "[encoded data removed]",
      "text/plain": [
       "<Figure size 432x288 with 1 Axes>"
      ]
     },
     "metadata": {},
     "output_type": "display_data"
    }
   ],
   "source": [
    "plt.plot(n_values_var,knn_accuracy_var,color='blue',marker='o')\n",
    "plt.xlabel('K-Values')\n",
    "plt.ylabel('Corresponding Accuracy')\n",
    "plt.title('How Accuracy varying by value of K')\n",
    "plt.show()"
   ]
  },
  {
   "cell_type": "code",
   "execution_count": 14,
   "metadata": {},
   "outputs": [
    {
     "data": {
      "image/png": "[encoded data removed]",
      "text/plain": [
       "<Figure size 432x288 with 1 Axes>"
      ]
     },
     "metadata": {},
     "output_type": "display_data"
    }
   ],
   "source": [
    "plt.bar(n_values_var,knn_accuracy_var)\n",
    "plt.xlabel('K-Values')\n",
    "plt.ylabel('Corresponding Accuracy')\n",
    "plt.ylim(0.8,0.95)\n",
    "plt.title('How Accuracy varying by value of K')\n",
    "plt.show()"
   ]
  },
  {
   "cell_type": "code",
   "execution_count": null,
   "metadata": {},
   "outputs": [],
   "source": []
  },
  {
   "cell_type": "code",
   "execution_count": null,
   "metadata": {},
   "outputs": [],
   "source": []
  }
 ],
 "metadata": {
  "kernelspec": {
   "display_name": "Python 3",
   "language": "python",
   "name": "python3"
  },
  "language_info": {
   "codemirror_mode": {
    "name": "ipython",
    "version": 3
   },
   "file_extension": ".py",
   "mimetype": "text/x-python",
   "name": "python",
   "nbconvert_exporter": "python",
   "pygments_lexer": "ipython3",
   "version": "3.6.5"
  }
 },
 "nbformat": 4,
 "nbformat_minor": 2
}
