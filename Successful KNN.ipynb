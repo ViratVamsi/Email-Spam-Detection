{
 "cells": [
  {
   "cell_type": "markdown",
   "metadata": {},
   "source": [
    "### KNN Implementation for Email Spam Detection"
   ]
  },
  {
   "cell_type": "markdown",
   "metadata": {},
   "source": [
    "### using self implemented KNN"
   ]
  },
  {
   "cell_type": "code",
   "execution_count": 1,
   "metadata": {},
   "outputs": [
    {
     "name": "stdout",
     "output_type": "stream",
     "text": [
      "trainset and testset lengths are : 3453 1148\n",
      "accuracy is  80.31358885017421 %\n"
     ]
    }
   ],
   "source": [
    "import csv\n",
    "import random\n",
    "import math\n",
    "import string\n",
    "\n",
    "def split_traintest_data(trainset,testset,split):\n",
    "    with open('spambase.data','r') as spamfile:\n",
    "        lines=list(csv.reader(spamfile))\n",
    "        for i in range(len(lines)):\n",
    "            for j in range(57):\n",
    "                lines[i][j]=float(lines[i][j])\n",
    "            lines[i][-1]=int(lines[i][-1])\n",
    "        for i in lines:\n",
    "            if(random.random()<split):\n",
    "                trainset.append(i)\n",
    "            else:\n",
    "                testset.append(i)\n",
    "        random.shuffle(trainset)\n",
    "        # for i in trainset:\n",
    "        #     random.shuffle(i[:-1])\n",
    "        \n",
    "        random.shuffle(testset)\n",
    "        # for i in testset:\n",
    "        #     random.shuffle(i[:-1])\n",
    "        \n",
    "def splitinto_labels_attributes(trainset,testset):\n",
    "    #return [trainset[:-1],trainset[-1],testset[:-1],testset[-1]]\n",
    "    x_train=[]\n",
    "    x_test=[]\n",
    "    y_train=[]\n",
    "    y_test=[]\n",
    "    for i in trainset:\n",
    "        x_train.append(i[:-1])\n",
    "        y_train.append(i[-1])\n",
    "    for i in testset:\n",
    "        x_test.append(i[:-1])\n",
    "        y_test.append(i[-1])\n",
    "    return [x_train,y_train,x_test,y_test]\n",
    "\n",
    "def euclid_dist(sample_ytrain,sample_xtrain):\n",
    "    dist=0\n",
    "    for i in range(len(sample_ytrain)):\n",
    "        diff=(sample_ytrain[i]-sample_xtrain[i])\n",
    "        dist+=diff*diff\n",
    "    return math.sqrt(dist)\n",
    "\n",
    "def nearest_neighbours(distances,k):\n",
    "    knn=[]\n",
    "    distances.sort(key=lambda x:x[0])\n",
    "    for i in range(k):\n",
    "        knn.append(distances[i])\n",
    "    return knn\n",
    "    \n",
    "def knn_predictlabel(knn):\n",
    "    onecount=0\n",
    "    for i in knn:\n",
    "        if(i[1]==1):\n",
    "            onecount+=1\n",
    "    if(onecount<=len(knn)-onecount):\n",
    "        return 0\n",
    "    else:\n",
    "        return 1\n",
    "\n",
    "def predictClasses(x_train,y_train,x_test,k):\n",
    "    predicted_labels=[]\n",
    "    for i in range(len(x_test)):\n",
    "        distances=[]\n",
    "        for j in range(len(x_train)):\n",
    "            distances.append([euclid_dist(x_test[i],x_train[j]),y_train[j]])\n",
    "        knn=nearest_neighbours(distances,k)\n",
    "        #print(knn)\n",
    "        predicted_labels.append(knn_predictlabel(knn))\n",
    "    return predicted_labels\n",
    "\n",
    "def calculate_accuracy(y_test,model_predicted):\n",
    "    if(len(y_test)!=len(model_predicted)):\n",
    "        print('Calculation Error, length not same')\n",
    "    accurate=0\n",
    "    for i in range(len(y_test)):\n",
    "        if(y_test[i]==model_predicted[i]):\n",
    "            accurate+=1\n",
    "    accurate_percent=((accurate)/len(y_test))*100\n",
    "    return accurate_percent\n",
    "\n",
    "split=0.75\n",
    "k=5\n",
    "trainset=[]\n",
    "testset=[]\n",
    "split_traintest_data(trainset,testset,split)\n",
    "print('trainset and testset lengths are :',len(trainset),len(testset))  #3457 1144  approx around these values since random split\n",
    "x_train,y_train,x_test,y_test=splitinto_labels_attributes(trainset,testset)\n",
    "# for i in testset:\n",
    "#     print(i[-1])\n",
    "# print(len(x_train),len(x_test),len(y_train),len(y_test))\n",
    "\n",
    "model_predicted=predictClasses(x_train,y_train,x_test,k)\n",
    "# print(len(y_test))\n",
    "# print(len(model_predicted))\n",
    "\n",
    "\n",
    "# for i in range(len(y_test)):\n",
    "#     print(y_test[i],'->',model_predicted[i])\n",
    "\n",
    "accuracy=calculate_accuracy(y_test,model_predicted)\n",
    "print('accuracy is ',accuracy,'%')"
   ]
  },
  {
   "cell_type": "code",
   "execution_count": 2,
   "metadata": {},
   "outputs": [
    {
     "name": "stdout",
     "output_type": "stream",
     "text": [
      "              precision    recall  f1-score   support\n",
      "\n",
      "           0       0.84      0.85      0.84       705\n",
      "           1       0.75      0.74      0.74       443\n",
      "\n",
      "    accuracy                           0.80      1148\n",
      "   macro avg       0.79      0.79      0.79      1148\n",
      "weighted avg       0.80      0.80      0.80      1148\n",
      "\n",
      "1148\n",
      "confusion matrix :\n",
      " [[596 109]\n",
      " [117 326]]\n",
      "Spam correctly classified as spam 596\n",
      "Ham being classified as spam 109\n",
      "Ham being classified as not ham 117\n",
      "Spam being classified as Ham 326\n",
      "Accuracy :\n",
      " 0.8031358885017421\n"
     ]
    }
   ],
   "source": [
    "\n",
    "from sklearn.metrics import classification_report,confusion_matrix,accuracy_score\n",
    "\n",
    "print(classification_report(y_test,model_predicted))\n",
    "print(len(y_test))\n",
    "conf_matrix=confusion_matrix(y_test,model_predicted)\n",
    "print('confusion matrix :\\n',conf_matrix)\n",
    "print('Spam correctly classified as spam',conf_matrix[0][0])\n",
    "print('Ham being classified as spam',conf_matrix[0][1])\n",
    "print('Ham being classified as not ham',conf_matrix[1][0])\n",
    "print('Spam being classified as Ham',conf_matrix[1][1])\n",
    "print('Accuracy :\\n',accuracy_score(y_test,model_predicted))"
   ]
  },
  {
   "cell_type": "code",
   "execution_count": 3,
   "metadata": {},
   "outputs": [
    {
     "name": "stdout",
     "output_type": "stream",
     "text": [
      "              precision    recall  f1-score   support\n",
      "\n",
      "           0       0.84      0.85      0.84       705\n",
      "           1       0.75      0.74      0.74       443\n",
      "\n",
      "    accuracy                           0.80      1148\n",
      "   macro avg       0.79      0.79      0.79      1148\n",
      "weighted avg       0.80      0.80      0.80      1148\n",
      "\n",
      "confusion matrix :\n",
      " [[596 109]\n",
      " [117 326]]\n",
      "Accuracy :\n",
      " 0.8031358885017421\n"
     ]
    }
   ],
   "source": [
    "from sklearn.neighbors import KNeighborsClassifier\n",
    "from sklearn.metrics import classification_report,confusion_matrix,accuracy_score\n",
    "\n",
    "knn_classifier=KNeighborsClassifier(n_neighbors=5).fit(x_train,y_train)\n",
    "pred=knn_classifier.predict(x_test)\n",
    "print(classification_report(y_test,pred))\n",
    "\n",
    "print('confusion matrix :\\n',confusion_matrix(y_test,pred))\n",
    "print('Accuracy :\\n',accuracy_score(y_test,pred))"
   ]
  },
  {
   "cell_type": "code",
   "execution_count": null,
   "metadata": {},
   "outputs": [],
   "source": []
  }
 ],
 "metadata": {
  "kernelspec": {
   "display_name": "Python 3",
   "language": "python",
   "name": "python3"
  },
  "language_info": {
   "codemirror_mode": {
    "name": "ipython",
    "version": 3
   },
   "file_extension": ".py",
   "mimetype": "text/x-python",
   "name": "python",
   "nbconvert_exporter": "python",
   "pygments_lexer": "ipython3",
   "version": "3.6.5"
  }
 },
 "nbformat": 4,
 "nbformat_minor": 2
}
